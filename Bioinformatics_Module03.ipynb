{
  "nbformat": 4,
  "nbformat_minor": 0,
  "metadata": {
    "colab": {
      "provenance": []
    },
    "kernelspec": {
      "name": "python3",
      "display_name": "Python 3"
    },
    "language_info": {
      "name": "python"
    }
  },
  "cells": [
    {
      "cell_type": "code",
      "execution_count": 31,
      "metadata": {
        "id": "5q3QdKw_MkNh",
        "colab": {
          "base_uri": "https://localhost:8080/"
        },
        "outputId": "bfb0c5d6-247f-4911-c971-bdf3ba34a065"
      },
      "outputs": [
        {
          "output_type": "stream",
          "name": "stdout",
          "text": [
            "Drive already mounted at /content/drive; to attempt to forcibly remount, call drive.mount(\"/content/drive\", force_remount=True).\n"
          ]
        }
      ],
      "source": [
        "from google.colab import drive\n",
        "drive.mount('/content/drive')\n"
      ]
    },
    {
      "cell_type": "code",
      "source": [
        "%%bash\n",
        "cd /content/drive/MyDrive\n",
        "\n",
        "# make repo folder\n",
        "mkdir -p ros\n",
        "cd ros\n",
        "\n",
        "# create subfolders\n",
        "mkdir -p src data/sample docs outputs\n",
        "\n",
        "# requirements.txt\n",
        "echo \"biopython\" > requirements.txt\n",
        "\n",
        "# README.md\n",
        "echo \"# Rosalind Assignment (Problems 1–9)\n",
        "Sushma Palli + 1002232673 + BIOL5340-001\n",
        "This repo contains solutions in Python for Rosalind bioinformatics problems.\" > README.md\n",
        "\n",
        "# AI usage log\n",
        "echo \"## AI Usage Disclosure\n",
        "## AI Usage Disclosure\n",
        "\n",
        "### Purpose of AI Collaboration\n",
        "For this assignment, I collaborated with AI tools, specifically **OpenAI ChatGPT (GPT-5 mini)** and **Google Gemini**, to assist in understanding bioinformatics concepts, generating Python code templates, and explaining errors in code. The AI was used as a learning and productivity aid, not as a substitute for my own work.\n",
        "\n",
        "### Specific Uses\n",
        "- **Code generation:** Assisted in creating Python scripts for Problems 1–9, including reading input files, processing DNA/RNA sequences, and generating outputs.\n",
        "- **Error debugging:** Provided explanations and suggested fixes for errors encountered while running Python scripts in Google Colab.\n",
        "- **Workflow guidance:** Suggested folder structures, input file organization, and version-controlled workflow practices suitable for GitHub submission.\n",
        "- **Documentation drafting:** Helped structure README.md content and AI usage logs to comply with assignment requirements.\n",
        "\n",
        "### Verification and Testing\n",
        "All AI-generated code and suggestions were:\n",
        "1. **Reviewed manually** for correctness and understanding.\n",
        "2. **Tested in Google Colab** to verify that outputs matched the expected Rosalind problem results.\n",
        "3. **Refactored or modified** as necessary to ensure proper functionality and learning outcomes.\n",
        "\n",
        "### Summary\n",
        "AI tools were used **responsibly** to support my learning and to improve efficiency. I verified every solution, ensuring that the final code and documentation reflect my understanding and effort.\n",
        "\n",
        "**AI Tools Used:**\n",
        "- OpenAI ChatGPT (GPT-5 mini)\n",
        "- Google Gemini 2.5\n",
        "\n",
        "\" > docs/ai_usage.md\n"
      ],
      "metadata": {
        "id": "nT-3qQWqab4Q"
      },
      "execution_count": 32,
      "outputs": []
    },
    {
      "cell_type": "code",
      "source": [
        "!pip install biopython\n"
      ],
      "metadata": {
        "colab": {
          "base_uri": "https://localhost:8080/"
        },
        "id": "tv3scloXc4LV",
        "outputId": "93ef477b-fc86-4ccd-9950-94fc3df6e242"
      },
      "execution_count": 33,
      "outputs": [
        {
          "output_type": "stream",
          "name": "stdout",
          "text": [
            "Requirement already satisfied: biopython in /usr/local/lib/python3.12/dist-packages (1.85)\n",
            "Requirement already satisfied: numpy in /usr/local/lib/python3.12/dist-packages (from biopython) (2.0.2)\n"
          ]
        }
      ]
    },
    {
      "cell_type": "code",
      "source": [
        "%%bash\n",
        "echo \"AGCTTAGCTA\" > /content/drive/MyDrive/ros/data/sample/dna_input.txt\n"
      ],
      "metadata": {
        "id": "HivE4Uk8c96a"
      },
      "execution_count": 34,
      "outputs": []
    },
    {
      "cell_type": "markdown",
      "source": [
        "#Creating data sample\n"
      ],
      "metadata": {
        "id": "4Q8MCjqgdQ4W"
      }
    },
    {
      "cell_type": "code",
      "source": [
        "# Create sample input files for Rosalind Problems 1-9\n",
        "\n",
        "sample_inputs = {\n",
        "    \"problem1\": \"AGCTTAGCTA\",  # Counting DNA nucleotides\n",
        "    \"problem2\": \"GATTACA\",      # Transcribing DNA to RNA\n",
        "    \"problem3\": \"GATTACA\",      # Complementing a DNA strand\n",
        "    \"problem4\": \"ATGCGT\",       # GC content\n",
        "    \"problem5\": \"ATGGCCATTGTAATGGGCCGCTGAAAGGGTGCCCGATAG\",  # Counting motifs\n",
        "    \"problem6\": \"ATGGCCATTGTAATGGGCCGCTGAAAGGGTGCCCGATAG\",  # Translating DNA to protein\n",
        "    \"problem7\": \"ATGCGATCGATCG\",  # Finding reverse complement\n",
        "    \"problem8\": \"ATGCATGC\",      # Counting sub-sequences\n",
        "    \"problem9\": \"ATGCGTATGCGT\"   # Finding pattern occurrences\n",
        "}\n",
        "\n",
        "import os\n",
        "folder = \"/content/drive/MyDrive/ros/data/sample/\"\n",
        "os.makedirs(folder, exist_ok=True)\n",
        "\n",
        "for key, seq in sample_inputs.items():\n",
        "    with open(f\"{folder}/{key}_input.txt\", \"w\") as f:\n",
        "        f.write(seq)\n"
      ],
      "metadata": {
        "id": "3NKxSADAdXRA"
      },
      "execution_count": 35,
      "outputs": []
    },
    {
      "cell_type": "code",
      "source": [
        "!ls /content/drive/MyDrive/ros/data/sample/\n"
      ],
      "metadata": {
        "colab": {
          "base_uri": "https://localhost:8080/"
        },
        "id": "Hi8NHgAZe_Oc",
        "outputId": "53806f8d-cd5e-4192-cf78-886090f6bb4d"
      },
      "execution_count": 36,
      "outputs": [
        {
          "output_type": "stream",
          "name": "stdout",
          "text": [
            "dna_input.txt\t    problem3_input.txt\tproblem6_input.txt  problem9_input.txt\n",
            "problem1_input.txt  problem4_input.txt\tproblem7_input.txt\n",
            "problem2_input.txt  problem5_input.txt\tproblem8_input.txt\n"
          ]
        }
      ]
    },
    {
      "cell_type": "code",
      "source": [
        "import os\n",
        "\n",
        "src_folder = \"/content/drive/MyDrive/ros/src/\"\n",
        "os.makedirs(src_folder, exist_ok=True)\n",
        "\n",
        "\n",
        "\n",
        "scripts = {\n",
        "    \"problem1.py\": \"\"\"\n",
        "# Problem 1 - Counting DNA nucleotides\n",
        "input_file = \"/content/drive/MyDrive/ros/data/sample/problem1_input.txt\"\n",
        "with open(input_file, 'r') as f:\n",
        "    dna = f.read().strip()\n",
        "A = dna.count('A')\n",
        "C = dna.count('C')\n",
        "G = dna.count('G')\n",
        "T = dna.count('T')\n",
        "print(A, C, G, T)\n",
        "\"\"\",\n",
        "    \"problem2.py\": \"\"\"\n",
        "# Problem 2 - Transcribe DNA to RNA\n",
        "input_file = \"/content/drive/MyDrive/ros/data/sample/problem2_input.txt\"\n",
        "with open(input_file, 'r') as f:\n",
        "    dna = f.read().strip()\n",
        "rna = dna.replace('T', 'U')\n",
        "print(rna)\n",
        "\"\"\",\n",
        "    \"problem3.py\": \"\"\"\n",
        "# Problem 3 - Complement DNA Strand\n",
        "input_file = \"/content/drive/MyDrive/ros/data/sample/problem3_input.txt\"\n",
        "with open(input_file, 'r') as f:\n",
        "    dna = f.read().strip()\n",
        "complement = dna.replace('A','t').replace('T','a').replace('C','g').replace('G','c').upper()\n",
        "print(complement)\n",
        "\"\"\",\n",
        "    \"problem4.py\": \"\"\"\n",
        "# Problem 4 - GC Content\n",
        "input_file = \"/content/drive/MyDrive/ros/data/sample/problem4_input.txt\"\n",
        "with open(input_file, 'r') as f:\n",
        "    dna = f.read().strip()\n",
        "gc_content = (dna.count('G') + dna.count('C')) / len(dna) * 100\n",
        "print(round(gc_content,2))\n",
        "\"\"\",\n",
        "    \"problem5.py\": \"\"\"\n",
        "# Problem 5 - Count Motifs (ATG)\n",
        "input_file = \"/content/drive/MyDrive/ros/data/sample/problem5_input.txt\"\n",
        "with open(input_file, 'r') as f:\n",
        "    dna = f.read().strip()\n",
        "motif = \"ATG\"\n",
        "count = 0\n",
        "for i in range(len(dna)-len(motif)+1):\n",
        "    if dna[i:i+len(motif)] == motif:\n",
        "        count += 1\n",
        "print(count)\n",
        "\"\"\",\n",
        "    \"problem6.py\": \"\"\"\n",
        "# Problem 6 - Translate DNA to Protein\n",
        "from Bio.Seq import Seq\n",
        "input_file = \"/content/drive/MyDrive/ros/data/sample/problem6_input.txt\"\n",
        "with open(input_file, 'r') as f:\n",
        "    dna_seq = f.read().strip()\n",
        "dna = Seq(dna_seq)\n",
        "protein = dna.translate()\n",
        "print(protein)\n",
        "\"\"\",\n",
        "    \"problem7.py\": \"\"\"\n",
        "# Problem 7 - Reverse Complement\n",
        "from Bio.Seq import Seq\n",
        "input_file = \"/content/drive/MyDrive/ros/data/sample/problem7_input.txt\"\n",
        "with open(input_file, 'r') as f:\n",
        "    dna_seq = f.read().strip()\n",
        "dna = Seq(dna_seq)\n",
        "rev_comp = dna.reverse_complement()\n",
        "print(rev_comp)\n",
        "\"\"\",\n",
        "    \"problem8.py\": \"\"\"\n",
        "# Problem 8 - Count Sub-sequences\n",
        "input_file = \"/content/drive/MyDrive/ros/data/sample/problem8_input.txt\"\n",
        "with open(input_file, 'r') as f:\n",
        "    dna = f.read().strip()\n",
        "subseq = \"ATG\"\n",
        "count = 0\n",
        "for i in range(len(dna)-len(subseq)+1):\n",
        "    if dna[i:i+len(subseq)] == subseq:\n",
        "        count += 1\n",
        "print(count)\n",
        "\"\"\",\n",
        "    \"problem9.py\": \"\"\"\n",
        "# Problem 9 - Pattern Occurrences\n",
        "input_file = \"/content/drive/MyDrive/ros/data/sample/problem9_input.txt\"\n",
        "with open(input_file, 'r') as f:\n",
        "    dna = f.read().strip()\n",
        "pattern = \"ATGC\"\n",
        "positions = [i+1 for i in range(len(dna)-len(pattern)+1) if dna[i:i+len(pattern)] == pattern]\n",
        "print(positions)\n",
        "\"\"\"\n",
        "}\n",
        "\n",
        "# Create all Python script files\n",
        "for filename, code in scripts.items():\n",
        "    path = os.path.join(src_folder, filename)\n",
        "    with open(path, \"w\") as f:\n",
        "        f.write(code.strip())\n",
        "\n",
        "print(\"All 9 Python scripts created in src/ folder!\")\n"
      ],
      "metadata": {
        "colab": {
          "base_uri": "https://localhost:8080/"
        },
        "id": "Up5mWmCbfk_o",
        "outputId": "38ede335-e125-4d7b-b775-3381c71b5cd2"
      },
      "execution_count": 37,
      "outputs": [
        {
          "output_type": "stream",
          "name": "stdout",
          "text": [
            "All 9 Python scripts created in src/ folder!\n"
          ]
        }
      ]
    },
    {
      "cell_type": "markdown",
      "source": [
        "#Verifing the rosaline problems files in drive\n"
      ],
      "metadata": {
        "id": "PSNlUAvpf4GV"
      }
    },
    {
      "cell_type": "code",
      "source": [
        "!ls /content/drive/MyDrive/ros/src/\n"
      ],
      "metadata": {
        "colab": {
          "base_uri": "https://localhost:8080/"
        },
        "id": "u6E_c-Crf_e5",
        "outputId": "81af9ffd-9ef3-43ec-8e91-4b6940ddea8f"
      },
      "execution_count": 38,
      "outputs": [
        {
          "output_type": "stream",
          "name": "stdout",
          "text": [
            "problem1.ipynb\tproblem2.py  problem4.py  problem6.py  problem8.py\n",
            "problem1.py\tproblem3.py  problem5.py  problem7.py  problem9.py\n"
          ]
        }
      ]
    },
    {
      "cell_type": "code",
      "source": [
        "import os\n",
        "import subprocess\n",
        "\n",
        "# Folder where scripts are located\n",
        "src_folder = \"/content/drive/MyDrive/ros/src/\"\n",
        "\n",
        "# List of all script filenames\n",
        "scripts = [\n",
        "    \"problem1.py\",\n",
        "    \"problem2.py\",\n",
        "    \"problem3.py\",\n",
        "    \"problem4.py\",\n",
        "    \"problem5.py\",\n",
        "    \"problem6.py\",\n",
        "    \"problem7.py\",\n",
        "    \"problem8.py\",\n",
        "    \"problem9.py\"\n",
        "]\n",
        "\n",
        "# Run each script and print output\n",
        "for script in scripts:\n",
        "    script_path = os.path.join(src_folder, script)\n",
        "    print(f\"\\n--- Running {script} ---\")\n",
        "    try:\n",
        "        # Run the script and capture output\n",
        "        result = subprocess.run([\"python\", script_path], capture_output=True, text=True)\n",
        "        print(result.stdout.strip())  # print normal output\n",
        "        if result.stderr:\n",
        "            print(\"Error:\", result.stderr)  # print any errors\n",
        "    except Exception as e:\n",
        "        print(f\"Exception running {script}: {e}\")\n"
      ],
      "metadata": {
        "colab": {
          "base_uri": "https://localhost:8080/"
        },
        "id": "0qVa8hqGgZH7",
        "outputId": "b96404af-b4b8-438d-9454-8450bac59019"
      },
      "execution_count": 39,
      "outputs": [
        {
          "output_type": "stream",
          "name": "stdout",
          "text": [
            "\n",
            "--- Running problem1.py ---\n",
            "3 2 2 3\n",
            "\n",
            "--- Running problem2.py ---\n",
            "GAUUACA\n",
            "\n",
            "--- Running problem3.py ---\n",
            "CTAATGT\n",
            "\n",
            "--- Running problem4.py ---\n",
            "50.0\n",
            "\n",
            "--- Running problem5.py ---\n",
            "2\n",
            "\n",
            "--- Running problem6.py ---\n",
            "MAIVMGR*KGAR*\n",
            "\n",
            "--- Running problem7.py ---\n",
            "CGATCGATCGCAT\n",
            "\n",
            "--- Running problem8.py ---\n",
            "2\n",
            "\n",
            "--- Running problem9.py ---\n",
            "[1, 7]\n"
          ]
        }
      ]
    },
    {
      "cell_type": "markdown",
      "source": [
        "#Saving outputs to a file\n",
        "\n"
      ],
      "metadata": {
        "id": "Qfb3PFxog6vs"
      }
    },
    {
      "cell_type": "code",
      "source": [
        "import os\n",
        "import subprocess\n",
        "\n",
        "src_folder = \"/content/drive/MyDrive/ros/src/\"\n",
        "output_file = \"/content/drive/MyDrive/ros/outputs/test_outputs.txt\"\n",
        "os.makedirs(\"/content/drive/MyDrive/ros/outputs\", exist_ok=True)\n",
        "\n",
        "scripts = [f\"problem{i}.py\" for i in range(1, 10)]\n",
        "\n",
        "with open(output_file, \"w\") as f_out:\n",
        "    for script in scripts:\n",
        "        script_path = os.path.join(src_folder, script)\n",
        "        f_out.write(f\"--- {script} ---\\n\")\n",
        "        result = subprocess.run([\"python\", script_path], capture_output=True, text=True)\n",
        "        f_out.write(result.stdout + \"\\n\")\n",
        "        if result.stderr:\n",
        "            f_out.write(\"Error: \" + result.stderr + \"\\n\")\n",
        "\n",
        "print(f\"All outputs saved to {output_file}\")\n"
      ],
      "metadata": {
        "colab": {
          "base_uri": "https://localhost:8080/"
        },
        "id": "9X6lof_Dg9jy",
        "outputId": "0baadf6d-8d12-4475-e4d5-2d2a04d6ceac"
      },
      "execution_count": 40,
      "outputs": [
        {
          "output_type": "stream",
          "name": "stdout",
          "text": [
            "All outputs saved to /content/drive/MyDrive/ros/outputs/test_outputs.txt\n"
          ]
        }
      ]
    },
    {
      "cell_type": "markdown",
      "source": [
        "#Github links"
      ],
      "metadata": {
        "id": "iV8BHsyCs7lz"
      }
    },
    {
      "cell_type": "markdown",
      "source": [
        "#https://github.com/sushma23github/bioinformatics-rosalind/releases/tag/week3-submission\n",
        "\n",
        "#https://github.com/sushma23github/bioinformatics-rosalind"
      ],
      "metadata": {
        "id": "CixWfqwPs0em"
      }
    },
    {
      "cell_type": "markdown",
      "source": [],
      "metadata": {
        "id": "PU5Zy7mxaa_p"
      }
    }
  ]
}